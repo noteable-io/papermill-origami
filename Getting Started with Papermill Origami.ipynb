{
 "cells": [
  {
   "cell_type": "code",
   "execution_count": null,
   "id": "8a97ce7f",
   "metadata": {
    "pycharm": {
     "name": "#%%\n"
    }
   },
   "outputs": [],
   "source": [
    "# If inside of ipython you need to patch the tornado coroutine before running your own async calls\n",
    "# See https://github.com/erdewit/nest_asyncio/issues/22\n",
    "import nest_asyncio\n",
    "nest_asyncio.apply()"
   ]
  },
  {
   "cell_type": "code",
   "execution_count": null,
   "id": "e92eb450",
   "metadata": {},
   "outputs": [],
   "source": [
    "import papermill as pm\n",
    "from papermill_origami import NoteableEngine, NoteableHandler, NoteableClient, ClientConfig\n",
    "from papermill.engines import papermill_engines\n",
    "from papermill.iorw import papermill_io\n",
    "papermill_engines.register('noteable', NoteableEngine)"
   ]
  },
  {
   "cell_type": "code",
   "execution_count": null,
   "id": "1d3f1d85",
   "metadata": {
    "pycharm": {
     "name": "#%%\n"
    }
   },
   "outputs": [],
   "source": [
    "domain = 'app.noteable.world'\n",
    "token = '...'\n",
    "file_id = 'bee0605a-84db-4092-8993-2c11e3952192'\n",
    "\n",
    "async with NoteableClient(token, config=ClientConfig(domain=domain)) as client:\n",
    "    NoteableHandler(client).register(papermill_io)\n",
    "    file = await client.get_notebook(file_id)\n",
    "    pm.execute_notebook(\n",
    "        f'noteable://{file_id}',\n",
    "        'output.ipynb',\n",
    "        engine_name='noteable', # exclude this kwarg to run the Notebook locally\n",
    "        # Noteable-specific kwargs\n",
    "        file=file,\n",
    "        client=client,\n",
    "        log_output=True,\n",
    "    )\n"
   ]
  },
  {
   "cell_type": "code",
   "execution_count": null,
   "id": "6b8b9f09",
   "metadata": {
    "pycharm": {
     "name": "#%%\n"
    }
   },
   "outputs": [],
   "source": []
  }
 ],
 "metadata": {
  "kernelspec": {
   "display_name": "Python (papermill-origami)",
   "language": "python",
   "name": "papermill-origami"
  },
  "language_info": {
   "codemirror_mode": {
    "name": "ipython",
    "version": 3
   },
   "file_extension": ".py",
   "mimetype": "text/x-python",
   "name": "python",
   "nbconvert_exporter": "python",
   "pygments_lexer": "ipython3",
   "version": "3.9.11"
  }
 },
 "nbformat": 4,
 "nbformat_minor": 5
}
